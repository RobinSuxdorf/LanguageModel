{
 "cells": [
  {
   "cell_type": "code",
   "execution_count": 3,
   "metadata": {},
   "outputs": [
    {
     "name": "stdout",
     "output_type": "stream",
     "text": [
      "['H', 'a', 'l', 'l', 'o', ' ', 'W', 'e', 'l', 't']\n",
      "[40, 64, 75, 75, 78, 0, 55, 68, 75, 83]\n",
      "Hallo Welt\n"
     ]
    },
    {
     "data": {
      "text/plain": [
       "94"
      ]
     },
     "execution_count": 3,
     "metadata": {},
     "output_type": "execute_result"
    }
   ],
   "source": [
    "from character_tokenizer import CharacterTokenizer\n",
    "\n",
    "tokenizer = CharacterTokenizer()\n",
    "\n",
    "text = 'Hallo Welt'\n",
    "\n",
    "print(tokenizer.tokenize(text))\n",
    "print(tokenizer.encode(text))\n",
    "print(tokenizer.decode(tokenizer.encode(text)))\n",
    "tokenizer.vocab_size"
   ]
  },
  {
   "cell_type": "code",
   "execution_count": 11,
   "metadata": {},
   "outputs": [
    {
     "name": "stdout",
     "output_type": "stream",
     "text": [
      "111\n",
      "{' ': 0, '!': 1, '\"': 2, '#': 3, '$': 4, '%': 5, '&': 6, \"'\": 7, '(': 8, ')': 9, '*': 10, '+': 11, ',': 12, '-': 13, '.': 14, '/': 15, '0': 16, '1': 17, '2': 18, '3': 19, '4': 20, '5': 21, '6': 22, '7': 23, '8': 24, '9': 25, ':': 26, ';': 27, '<': 28, '=': 29, '>': 30, '?': 31, '@': 32, 'A': 33, 'B': 34, 'C': 35, 'D': 36, 'E': 37, 'F': 38, 'G': 39, 'H': 40, 'I': 41, 'J': 42, 'K': 43, 'L': 44, 'M': 45, 'N': 46, 'O': 47, 'P': 48, 'Q': 49, 'R': 50, 'S': 51, 'T': 52, 'U': 53, 'V': 54, 'W': 55, 'X': 56, 'Y': 57, 'Z': 58, '[': 59, ']': 60, '^': 61, '_': 62, '`': 63, 'a': 64, 'b': 65, 'c': 66, 'd': 67, 'e': 68, 'f': 69, 'g': 70, 'h': 71, 'i': 72, 'j': 73, 'k': 74, 'l': 75, 'm': 76, 'n': 77, 'o': 78, 'p': 79, 'q': 80, 'r': 81, 's': 82, 't': 83, 'u': 84, 'v': 85, 'w': 86, 'x': 87, 'y': 88, 'z': 89, '{': 90, '|': 91, '}': 92, '~': 93, 'es': 94, 'est': 95, 'lo': 96, 'low': 97, 'ne': 98, 'new': 99, 'newest': 100, 'er': 101, 'wi': 102, 'wid': 103, 'widest': 104, 'lower': 105, 'ha': 106, 'hap': 107, 'happ': 108, 'happi': 109, 'happier': 110}\n"
     ]
    },
    {
     "data": {
      "text/plain": [
       "['low', 'est']"
      ]
     },
     "execution_count": 11,
     "metadata": {},
     "output_type": "execute_result"
    }
   ],
   "source": [
    "from bpe_tokenizer import BytePairEncoderTokenizer\n",
    "\n",
    "tokenizer = BytePairEncoderTokenizer(1000)\n",
    "\n",
    "corpus = [\n",
    "    \"low low low low low\",\n",
    "    \"lower lower\",\n",
    "    \"newest newest newest newest newest newest\",\n",
    "    \"widest widest widest\",\n",
    "    \"happier happier\"\n",
    "]\n",
    "\n",
    "tokenizer.fit(corpus)\n",
    "\n",
    "print(tokenizer.vocab_size)\n",
    "print(tokenizer.stoi)\n",
    "\n",
    "tokenizer.tokenize('lowest')"
   ]
  }
 ],
 "metadata": {
  "kernelspec": {
   "display_name": "Python 3.10.5 64-bit",
   "language": "python",
   "name": "python3"
  },
  "language_info": {
   "codemirror_mode": {
    "name": "ipython",
    "version": 3
   },
   "file_extension": ".py",
   "mimetype": "text/x-python",
   "name": "python",
   "nbconvert_exporter": "python",
   "pygments_lexer": "ipython3",
   "version": "3.10.5"
  },
  "orig_nbformat": 4,
  "vscode": {
   "interpreter": {
    "hash": "aee8b7b246df8f9039afb4144a1f6fd8d2ca17a180786b69acc140d282b71a49"
   }
  }
 },
 "nbformat": 4,
 "nbformat_minor": 2
}
