{
 "cells": [
  {
   "cell_type": "code",
   "execution_count": 1,
   "metadata": {},
   "outputs": [],
   "source": [
    "import torch\n",
    "\n",
    "device = torch.device('cuda' if torch.cuda.is_available() else 'cpu')"
   ]
  },
  {
   "cell_type": "code",
   "execution_count": 2,
   "metadata": {},
   "outputs": [],
   "source": [
    "import json\n",
    "import re\n",
    "\n",
    "with open('datasets/data.json') as file:\n",
    "    data = json.loads(file.read())\n",
    "\n",
    "corpus: list[str] = [entry['summary'] for entry in data]\n",
    "\n",
    "split_value = int(0.9 * len(corpus))\n",
    "\n",
    "train_data: list[dict[str, str]] = corpus[:split_value]\n",
    "test_data: list[dict[str, str]] = corpus[split_value:]"
   ]
  },
  {
   "cell_type": "code",
   "execution_count": 3,
   "metadata": {},
   "outputs": [
    {
     "name": "stdout",
     "output_type": "stream",
     "text": [
      "29.387634 M parameters\n"
     ]
    }
   ],
   "source": [
    "from language_model import generation\n",
    "\n",
    "model = generation.LanguageModel(device=device)\n",
    "\n",
    "print(sum([p.numel() for p in model.encoder.parameters()]) / 1e6, 'M parameters')"
   ]
  },
  {
   "cell_type": "code",
   "execution_count": 4,
   "metadata": {},
   "outputs": [
    {
     "data": {
      "text/plain": [
       "' {tfrac\\\\\\\\\\\\\\\\\\\\{4\\\\\\\\\\\\}\\\\\\\\\\\\{3\\\\\\\\\\\\}\\\\\\\\\\\\}DetroitvariousBlue_\\\\{nStudiosOxfordEnglishFeusisthisnumber,precededbytheyear\\\\\\\\\\\\\\\\\\\\\\\\\\\\\\\\\\\\\\\\\\\\\\\\\\\\\\\\\\\\\\\\\\\\\\\\\\\\\\\\\\\\\\\\\\\\\\\\\\\\\\\\\\\\\\\\\\\\\\\\\\\\\\\\\\\\\\\\\\\\\\\\\\\\\\\\\\\\\\\\\\\\\\\\\\\\\\\\\\\\(s\\\\\\\\\\\\\\\\\\\\\\\\\\\\\\\\\\\\\\\\\\\\\\\\\\\\\\\\\\\\\\\\\\\\\\\\\\\\\\\\\\\\\\\\\\\\\\\\\\\\\\\\\\\\\\\\\\\\\\\\\\\\\\\\\\\\\\\\\\\\\\\\\\\\\\\\\\\\\\\\\\\\\\\\\\\\\\\\\\\\\\\\)ofthereignduringwhichtherelevantparliamentarysessionwasheld;thustheUnionwithIrelandAct1800iscitedas\"39\\\\\\\\\\\\\\\\\\\\\\\\\\\\\\\\\\\\\\\\\\\\\\\\\\\\\\\\\\\\\\\\\\\\\\\\\\\\\\\\\\\\\\\\\\\\\\\\\\\\\\\\\\\\\\\\\\\\\\\\\\\\\\\\\\\\\\\\&40Geo\\\\\\\\\\\\\\\\\\\\\\\\\\\\\\\\\\\\\\\\\\\\\\\\\\\\\\\\\\\\\\\\\\\\\\\\\\\\\\\\\\\\\\\\\\\\\\\\\\\\\\\\\\\\\\\\\\\\\\\\\\\\\\\\\\\\\\\\.3c\\\\\\\\\\\\\\\\\\\\\\\\\\\\\\\\\\\\\\\\\\\\\\\\\\\\\\\\\\\\\\\\\\\\\\\\\\\\\\\\\\\\\\\\\\\\\\\\\\\\\\\\\\\\\\\\\\\\\\\\\\\\\\\\.67\",meaningthe67thactpassedduringthesessionthatstartedinthe39thyearofthereignofGeorgeIIIandwhichfinishedinthe40thyearofthatreign\\\\\\\\\\\\\\\\\\\\\\\\\\\\\\\\\\\\\\\\\\\\\\\\\\\\\\\\\\\\\\\\\\\\\\\\.NotethatthemodernconventionistouseArabicnumeralsincitations\\\\\\\\\\\\\\\\\\\\\\\\\\\\\\\\\\\\\\\\\\\\\\\\\\\\\\\\\\\\(thus\"41Geo\\\\\\\\\\\\\\\\\\\\\\\\\\\\\\\\\\\\\\\\\\\\\\\\\\\\\\\\\\\\\\\\.3\"ratherthan\"41Geo\\\\\\\\\\\\\\\\\\\\\\\\\\\\\\\\\\\\.III\"\\\\\\\\\\\\\\\\\\\\\\\\\\\\\\\\)\\\\\\\\\\\\\\\\\\\\\\\\\\\\.ActsofthelastsessionoftheParliamentofGreatBritainandthefirstsessionoftheParliamentoftheUnitedKingdomarebothcitedas\"41Geo\\\\\\\\\\\\\\\\.3\"YouTubeACJulPlparliamentoftheUnitedKingdomwasheldin1801;parliamentsbetween1707and1800wereeitherparliamentsofGreatBritainorofIrelandPrimeCOVID\\\\-19goalRichardNixonanimatedIv\\\\.R.wnuniversityPrix)areDailEireannTheCwasfirstMedalinbegin\\\\{pmatrix\\\\}mmLPfoughtneedCoastGuard2020+alFree\\\\)isanIrishTheTaximumcenturyVietTaiwvolleyballwealthiestSouthAsianGirl..O\\'Dellolvp.Vladimirsuchoverthrow];acquisitionofiliaLuoWorldChampionshipuvEquatorialGuineMIT\\\\];BretonunwantedFriedUK:AcademyAwardAirNationalGuardAnglo\\\\\\\\\\\\-Saxonboroughofphony;inThePialneuralnetworkprofessionallyas1906knownasFiveThirtySundanceJuly11,fuBabyhawkbreakChineseCommunistParty\\\\\\\\(CCPBirDoc1994mobVinortUnioncc,well\\\\-knownTheMBC.MobilePresident'"
      ]
     },
     "execution_count": 4,
     "metadata": {},
     "output_type": "execute_result"
    }
   ],
   "source": [
    "model.predict(' ')"
   ]
  },
  {
   "cell_type": "code",
   "execution_count": null,
   "metadata": {},
   "outputs": [],
   "source": [
    "from language_model import train\n",
    "\n",
    "trainer = train.ModelTrainer(model, train_data, test_data)\n",
    "\n",
    "trainer.train()"
   ]
  },
  {
   "cell_type": "code",
   "execution_count": null,
   "metadata": {},
   "outputs": [],
   "source": [
    "model.predict(' ')"
   ]
  },
  {
   "cell_type": "code",
   "execution_count": null,
   "metadata": {},
   "outputs": [],
   "source": [
    "model.predict('Deep Learning')"
   ]
  },
  {
   "cell_type": "code",
   "execution_count": null,
   "metadata": {},
   "outputs": [],
   "source": [
    "model.save('model.pt')"
   ]
  }
 ],
 "metadata": {
  "kernelspec": {
   "display_name": "Python 3.10.5 64-bit",
   "language": "python",
   "name": "python3"
  },
  "language_info": {
   "codemirror_mode": {
    "name": "ipython",
    "version": 3
   },
   "file_extension": ".py",
   "mimetype": "text/x-python",
   "name": "python",
   "nbconvert_exporter": "python",
   "pygments_lexer": "ipython3",
   "version": "3.11.6"
  },
  "orig_nbformat": 4,
  "vscode": {
   "interpreter": {
    "hash": "aee8b7b246df8f9039afb4144a1f6fd8d2ca17a180786b69acc140d282b71a49"
   }
  }
 },
 "nbformat": 4,
 "nbformat_minor": 2
}
