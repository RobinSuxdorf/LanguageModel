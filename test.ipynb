{
 "cells": [
  {
   "cell_type": "code",
   "execution_count": 1,
   "metadata": {},
   "outputs": [],
   "source": [
    "with open('datasets/shakespeare.txt') as file:\n",
    "    text = file.read()"
   ]
  },
  {
   "cell_type": "code",
   "execution_count": 2,
   "metadata": {},
   "outputs": [],
   "source": [
    "import torch\n",
    "\n",
    "device = 'cuda' if torch.cuda.is_available() else 'cpu'"
   ]
  },
  {
   "cell_type": "code",
   "execution_count": 3,
   "metadata": {},
   "outputs": [
    {
     "name": "stdout",
     "output_type": "stream",
     "text": [
      "195\n"
     ]
    }
   ],
   "source": [
    "from tokenizer.bpe_tokenizer import BytePairEncodingTokenizer\n",
    "from pipelines.text_to_tensor import create_pipeline\n",
    "\n",
    "text = text[:1000]\n",
    "\n",
    "tokenizer = BytePairEncodingTokenizer(100)\n",
    "\n",
    "tokenizer.fit([text])\n",
    "\n",
    "print(tokenizer.vocab_size)\n",
    "\n",
    "pipeline = create_pipeline(tokenizer, 0.9)\n",
    "\n",
    "train_data, test_data = pipeline.transform(text)"
   ]
  },
  {
   "cell_type": "code",
   "execution_count": 4,
   "metadata": {},
   "outputs": [],
   "source": [
    "from enumerations.data_splits import DataSplits"
   ]
  },
  {
   "cell_type": "code",
   "execution_count": 5,
   "metadata": {},
   "outputs": [],
   "source": [
    "from typing import Tuple\n",
    "\n",
    "import torch\n",
    "\n",
    "context_length = 64\n",
    "batch_size = 64\n",
    "\n",
    "def get_batch(split: DataSplits, batch_size: int, context_length: int, device: str = 'cpu') -> Tuple[torch.tensor, torch.tensor]:\n",
    "    data = train_data if split == DataSplits.TRAIN else test_data\n",
    "\n",
    "    print(split == DataSplits.TEST)\n",
    "\n",
    "    assert len(data) - context_length >= 0, 'Length of data is shorter than context_length'\n",
    "\n",
    "    idx = torch.randint(len(data) - context_length, (batch_size, ))\n",
    "    x = torch.stack([data[i:i + context_length] for i in idx])\n",
    "    y = torch.stack([data[i + 1:i + context_length + 1] for i in idx])\n",
    "    x, y = x.to(device), y.to(device)\n",
    "    return x, y"
   ]
  },
  {
   "cell_type": "code",
   "execution_count": 7,
   "metadata": {},
   "outputs": [
    {
     "name": "stdout",
     "output_type": "stream",
     "text": [
      "19.138755 M parameters\n"
     ]
    }
   ],
   "source": [
    "from language_model.model import LanguageModel\n",
    "\n",
    "embed_size = 512\n",
    "num_layers = 6\n",
    "num_heads = 8\n",
    "forward_expansion = 4\n",
    "dropout = 0\n",
    "\n",
    "model = LanguageModel(\n",
    "    tokenizer,\n",
    "    embed_size,\n",
    "    context_length,\n",
    "    num_layers,\n",
    "    num_heads,\n",
    "    forward_expansion,\n",
    "    dropout,\n",
    "    device\n",
    ")\n",
    "\n",
    "print(sum([p.numel() for p in model.encoder.parameters()]) / 1e6, 'M parameters')"
   ]
  },
  {
   "cell_type": "code",
   "execution_count": null,
   "metadata": {},
   "outputs": [],
   "source": [
    "@torch.no_grad()\n",
    "def estimate_loss():\n",
    "    out = {}\n",
    "    model.eval()\n",
    "    for split in [DataSplits.TRAIN, DataSplits.TEST]:\n",
    "        losses = torch.zeros(50)\n",
    "        for k in range(50):\n",
    "            x, y = get_batch(split, batch_size, context_length)\n",
    "            logits, loss = model(x, y)\n",
    "            losses[k] = loss.item()\n",
    "        out[split] = losses.mean()\n",
    "    model.train()\n",
    "    return out"
   ]
  },
  {
   "cell_type": "code",
   "execution_count": null,
   "metadata": {},
   "outputs": [],
   "source": [
    "optimizer = torch.optim.AdamW(model.parameters(), lr=0.05)\n",
    "\n",
    "for iter in range(50):\n",
    "    if iter % 5 == 0 or iter == 49:\n",
    "        losses = estimate_loss()\n",
    "        print(f\"step {iter}: train loss {losses[DataSplits.TRAIN]:.4f}, test loss {losses[DataSplits.TEST]:.4f}\")\n",
    "\n",
    "    x_batch, y_batch = get_batch(DataSplits.TRAIN, batch_size, context_length)\n",
    "\n",
    "    logits, loss = model(x_batch, y_batch)\n",
    "    optimizer.zero_grad(set_to_none=True)\n",
    "    loss.backward()\n",
    "    optimizer.step()\n",
    "\n",
    "context = torch.zeros((1,1), dtype=torch.long)\n",
    "print(tokenizer.decode(model.generate(context, max_new_tokens=500)[0].tolist()))"
   ]
  },
  {
   "cell_type": "code",
   "execution_count": null,
   "metadata": {},
   "outputs": [],
   "source": [
    "from language_model.model import LanguageModel\n",
    "\n",
    "embed_size = 512\n",
    "num_layers = 6\n",
    "num_heads = 8\n",
    "forward_expansion = 4\n",
    "dropout = 0\n",
    "\n",
    "model = LanguageModel(\n",
    "    tokenizer,\n",
    "    embed_size,\n",
    "    context_length,\n",
    "    num_layers,\n",
    "    num_heads,\n",
    "    forward_expansion,\n",
    "    dropout\n",
    ")"
   ]
  }
 ],
 "metadata": {
  "kernelspec": {
   "display_name": "Python 3.10.5 64-bit",
   "language": "python",
   "name": "python3"
  },
  "language_info": {
   "codemirror_mode": {
    "name": "ipython",
    "version": 3
   },
   "file_extension": ".py",
   "mimetype": "text/x-python",
   "name": "python",
   "nbconvert_exporter": "python",
   "pygments_lexer": "ipython3",
   "version": "3.10.5"
  },
  "orig_nbformat": 4,
  "vscode": {
   "interpreter": {
    "hash": "aee8b7b246df8f9039afb4144a1f6fd8d2ca17a180786b69acc140d282b71a49"
   }
  }
 },
 "nbformat": 4,
 "nbformat_minor": 2
}
