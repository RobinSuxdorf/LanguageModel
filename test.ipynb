{
 "cells": [
  {
   "cell_type": "markdown",
   "metadata": {},
   "source": [
    "- save and load as  classmethod?\n",
    "- overload constructor?"
   ]
  },
  {
   "cell_type": "code",
   "execution_count": 1,
   "metadata": {},
   "outputs": [],
   "source": [
    "with open('datasets/shakespeare.txt') as file:\n",
    "    text = file.read()"
   ]
  },
  {
   "cell_type": "code",
   "execution_count": 3,
   "metadata": {},
   "outputs": [
    {
     "data": {
      "text/plain": [
       "[75, 125, 68, 106]"
      ]
     },
     "execution_count": 3,
     "metadata": {},
     "output_type": "execute_result"
    }
   ],
   "source": [
    "from sklearn.pipeline import Pipeline\n",
    "from sklearn.preprocessing import FunctionTransformer\n",
    "from unidecode import unidecode\n",
    "from tokenizer.bpe_tokenizer import BytePairEncodingTokenizer\n",
    "\n",
    "tokenizer = BytePairEncodingTokenizer(0)\n",
    "tokenizer.load('tokenizer/trained_tokenizers/bpe.pkl')\n",
    "\n",
    "pipeline = Pipeline([\n",
    "    ('unicode_to_ascii', FunctionTransformer(unidecode)),\n",
    "    ('encode', FunctionTransformer(tokenizer.encode))\n",
    "])\n",
    "\n",
    "pipeline.transform('lowest')"
   ]
  }
 ],
 "metadata": {
  "language_info": {
   "name": "python"
  },
  "orig_nbformat": 4
 },
 "nbformat": 4,
 "nbformat_minor": 2
}
