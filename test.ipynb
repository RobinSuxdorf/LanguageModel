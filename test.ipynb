{
 "cells": [
  {
   "cell_type": "code",
   "execution_count": 1,
   "metadata": {},
   "outputs": [],
   "source": [
    "from enumerations.data_splits import DataSplits\n",
    "\n",
    "import torch\n",
    "torch.manual_seed(1337)\n",
    "\n",
    "device = 'cuda' if torch.cuda.is_available() else 'cpu'\n",
    "\n",
    "context_length = 256\n",
    "batch_size = 64\n",
    "embed_size = 512\n",
    "num_layers = 6\n",
    "num_heads = 8\n",
    "forward_expansion = 4\n",
    "dropout = 0.2\n",
    "\n",
    "max_iters = 100\n",
    "eval_iters = 2\n",
    "eval_interval = 5\n",
    "learning_rate = 3e-4"
   ]
  },
  {
   "cell_type": "code",
   "execution_count": 2,
   "metadata": {},
   "outputs": [],
   "source": [
    "with open('datasets/shakespeare.txt') as file:\n",
    "    text = file.read()"
   ]
  },
  {
   "cell_type": "code",
   "execution_count": 3,
   "metadata": {},
   "outputs": [
    {
     "name": "stdout",
     "output_type": "stream",
     "text": [
      "1095\n"
     ]
    }
   ],
   "source": [
    "from tokenizer.bpe_tokenizer import BytePairEncodingTokenizer\n",
    "from pipelines.text_to_tensor import create_pipeline\n",
    "\n",
    "text = text[:50000]\n",
    "\n",
    "tokenizer = BytePairEncodingTokenizer(1000)\n",
    "\n",
    "tokenizer.fit([text])\n",
    "\n",
    "print(tokenizer.vocab_size)\n",
    "\n",
    "pipeline = create_pipeline(tokenizer, 0.9)\n",
    "\n",
    "train_data, test_data = pipeline.transform(text)"
   ]
  },
  {
   "cell_type": "code",
   "execution_count": 4,
   "metadata": {},
   "outputs": [],
   "source": [
    "from typing import Tuple\n",
    "\n",
    "import torch\n",
    "\n",
    "def get_batch(split: DataSplits, batch_size: int, context_length: int, device: str = 'cpu') -> Tuple[torch.tensor, torch.tensor]:\n",
    "    data = train_data if split == DataSplits.TRAIN else test_data\n",
    "\n",
    "    assert len(data) - context_length >= 0, 'Length of data is shorter than context_length'\n",
    "\n",
    "    idx = torch.randint(len(data) - context_length, (batch_size, ))\n",
    "    x = torch.stack([data[i:i + context_length] for i in idx])\n",
    "    y = torch.stack([data[i + 1:i + context_length + 1] for i in idx])\n",
    "    x, y = x.to(device), y.to(device)\n",
    "    return x, y"
   ]
  },
  {
   "cell_type": "code",
   "execution_count": 5,
   "metadata": {},
   "outputs": [
    {
     "name": "stdout",
     "output_type": "stream",
     "text": [
      "20.159559 M parameters\n"
     ]
    }
   ],
   "source": [
    "from language_model.model import LanguageModel\n",
    "\n",
    "model = LanguageModel(\n",
    "    tokenizer,\n",
    "    embed_size,\n",
    "    context_length,\n",
    "    num_layers,\n",
    "    num_heads,\n",
    "    forward_expansion,\n",
    "    dropout,\n",
    "    device\n",
    ")\n",
    "\n",
    "print(sum([p.numel() for p in model.encoder.parameters()]) / 1e6, 'M parameters')"
   ]
  },
  {
   "cell_type": "code",
   "execution_count": 6,
   "metadata": {},
   "outputs": [
    {
     "data": {
      "text/plain": [
       "\" three*state,$ratslegshallNoblebarsyselfherdillLet'scupuefairhe.woreot.him.Officer@tribunesbeforecarmineThatstrangeDpleaseHectorit;heardkindifMes^minKingmarknewelsecruelIt4uchHis\""
      ]
     },
     "execution_count": 6,
     "metadata": {},
     "output_type": "execute_result"
    }
   ],
   "source": [
    "model.predict(' ', max_new_tokens=50)"
   ]
  },
  {
   "cell_type": "code",
   "execution_count": 7,
   "metadata": {},
   "outputs": [],
   "source": [
    "@torch.no_grad()\n",
    "def estimate_loss():\n",
    "    out = {}\n",
    "    model.encoder.eval()\n",
    "    for split in [DataSplits.TRAIN, DataSplits.TEST]:\n",
    "        losses = torch.zeros(eval_iters)\n",
    "        for k in range(eval_iters):\n",
    "            x, y = get_batch(split, batch_size, context_length)\n",
    "            logits, loss = model.encoder(x, y)\n",
    "            losses[k] = loss.item()\n",
    "        out[split] = losses.mean()\n",
    "    model.encoder.train()\n",
    "    return out"
   ]
  },
  {
   "cell_type": "code",
   "execution_count": 8,
   "metadata": {},
   "outputs": [
    {
     "name": "stdout",
     "output_type": "stream",
     "text": [
      "step 0: train loss 7.0785, test loss 7.0803\n",
      "step 1: train loss 7.1452, test loss 7.0664\n"
     ]
    },
    {
     "data": {
      "text/plain": [
       "' ayadaddidagainstbutguCOMINIUS:speakshowil\\nwebeen-s!VIRGILIA:ghtcopRceCaiusghtTotellafme,atshiartthckyouguVIRGILIA:didoffTheyofftrs!CORIOLANUS:becomeshihimfiWaccbu'"
      ]
     },
     "execution_count": 8,
     "metadata": {},
     "output_type": "execute_result"
    }
   ],
   "source": [
    "optimizer = torch.optim.AdamW(model.encoder.parameters(), lr=0.05)\n",
    "\n",
    "for iter in range(max_iters):\n",
    "    if iter % eval_interval == 0 or iter == max_iters -1 :\n",
    "        losses = estimate_loss()\n",
    "        print(f\"step {iter}: train loss {losses[DataSplits.TRAIN]:.4f}, test loss {losses[DataSplits.TEST]:.4f}\")\n",
    "\n",
    "    x_batch, y_batch = get_batch(DataSplits.TRAIN, batch_size, context_length)\n",
    "\n",
    "    logits, loss = model.encoder(x_batch, y_batch)\n",
    "    optimizer.zero_grad(set_to_none=True)\n",
    "    loss.backward()\n",
    "    optimizer.step()\n",
    "\n",
    "model.predict(' ', 50)"
   ]
  },
  {
   "cell_type": "code",
   "execution_count": 9,
   "metadata": {},
   "outputs": [
    {
     "data": {
      "text/plain": [
       "\" COMINIUS:ce,me,teaveitizenheardblewasthusWeiercosdrwarrmfrimeghtabhim,illupsSentMys!s!LARTIUS:bodi's!WhichayshowbrCORIOLANUS:AUFIDIUS:s!ayEarmIueoffanywork\""
      ]
     },
     "execution_count": 9,
     "metadata": {},
     "output_type": "execute_result"
    }
   ],
   "source": [
    "model.predict(' ', 50)"
   ]
  }
 ],
 "metadata": {
  "kernelspec": {
   "display_name": "Python 3.10.5 64-bit",
   "language": "python",
   "name": "python3"
  },
  "language_info": {
   "codemirror_mode": {
    "name": "ipython",
    "version": 3
   },
   "file_extension": ".py",
   "mimetype": "text/x-python",
   "name": "python",
   "nbconvert_exporter": "python",
   "pygments_lexer": "ipython3",
   "version": "3.10.5"
  },
  "orig_nbformat": 4,
  "vscode": {
   "interpreter": {
    "hash": "aee8b7b246df8f9039afb4144a1f6fd8d2ca17a180786b69acc140d282b71a49"
   }
  }
 },
 "nbformat": 4,
 "nbformat_minor": 2
}
